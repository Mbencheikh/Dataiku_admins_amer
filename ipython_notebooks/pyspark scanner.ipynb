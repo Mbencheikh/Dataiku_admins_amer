{
  "metadata": {
    "kernelspec": {
      "name": "py-dku-venv-test_py",
      "display_name": "Python (env test_py)",
      "language": "python"
    },
    "creator": "akaos",
    "createdOn": 1683117370655,
    "tags": [],
    "customFields": {},
    "hide_input": false,
    "language_info": {
      "name": "python",
      "version": "3.6.8",
      "mimetype": "text/x-python",
      "codemirror_mode": {
        "name": "ipython",
        "version": 3
      },
      "pygments_lexer": "ipython3",
      "nbconvert_exporter": "python",
      "file_extension": ".py"
    },
    "modifiedBy": "akaos"
  },
  "nbformat": 4,
  "nbformat_minor": 1,
  "cells": [
    {
      "execution_count": 0,
      "cell_type": "code",
      "metadata": {},
      "source": [
        "import dataiku\nfrom dataiku import pandasutils as pdu\nimport pandas as pd"
      ],
      "outputs": []
    },
    {
      "execution_count": 0,
      "cell_type": "code",
      "metadata": {},
      "source": [
        "# Import Dataiku API\nimport dataiku\n\n# Get the client object to interact with the instance\nclient \u003d dataiku.api_client()\n\n# Get the list of all projects on the instance\nprojects \u003d client.list_project_keys()\n\n# Initialize an empty list to store the pyspark notebooks\npyspark_notebooks \u003d []\n\n# Loop over each project\nfor project_key in projects:\n    # Get the project object\n    project \u003d client.get_project(project_key)\n    # Get the list of all notebooks in the project\n    notebooks \u003d project.list_jupyter_notebooks()\n    # Loop over each notebook\n    for notebook in notebooks:\n        # Get the notebook object\n        notebook_obj \u003d project.get_jupyter_notebook(notebook.get_name()) # Use notebook.get_name() instead of notebook.name\n        # Get the notebook settings\n        notebook_settings \u003d notebook_obj.get_settings()\n        # Check if the notebook uses a pyspark code environment\n        if notebook_settings.get_code_env()[\"type\"] \u003d\u003d \"PYSPARK\":\n            # Add the notebook name and project key to the list\n            pyspark_notebooks.append((notebook.get_name(), project_key)) # Use notebook.get_name() instead of notebook.name\n\n# Print the list of pyspark notebooks\nprint(pyspark_notebooks)\n"
      ],
      "outputs": []
    },
    {
      "execution_count": 0,
      "cell_type": "code",
      "metadata": {},
      "source": [
        "# Import Dataiku Python API\nimport dataiku\n\n# Start a Spark session\n\n# Get the list of pyspark notebooks on the Dataiku instance\nnotebooks \u003d dataiku.list_notebooks()\n\n# Filter the notebooks by language\npyspark_notebooks \u003d [nb for nb in notebooks if nb[\"language\"] \u003d\u003d \"pyspark\"]\n\n# Print the names of the pyspark notebooks\nfor nb in pyspark_notebooks:\n    print(nb[\"name\"])"
      ],
      "outputs": []
    },
    {
      "execution_count": 0,
      "cell_type": "code",
      "metadata": {},
      "source": [
        "import dataiku\n# Get the list of all notebooks on the Dataiku instance\nnotebooks \u003d client.list_notebooks()\n\n# Loop through the notebooks and print the name and project key of pyspark notebooks\nfor nb in notebooks:\n    # Get the notebook object by its ID\n    notebook \u003d client.get_notebook(nb[\"id\"])\n    # Get the definition of the notebook object\n    definition \u003d notebook.get_definition()\n    # Check if the language of the notebook is pyspark\n    if definition[\"language\"] \u003d\u003d \"pyspark\":\n        # Print the name and project key of the notebook\n        print(f\"Name: {definition[\u0027name\u0027]}\")\n        print(f\"Project: {definition[\u0027project_key\u0027]}\")\n        print()\n"
      ],
      "outputs": []
    },
    {
      "execution_count": 0,
      "cell_type": "code",
      "metadata": {},
      "source": [
        "\n# Import the dataiku API module\nimport dataiku\n\n# Get the list of all projects on the instance\nprojects \u003d dataiku.api_client().list_projects()\n\n# Initialize an empty dictionary to store the results\nresults \u003d {}\n\n# Loop through each project\nfor project in projects:\n    # Get the project key\n    project_key \u003d project[\"projectKey\"]\n    print(project)\n    # Get the list of all notebooks in the project\n    notebooks \u003d dataiku.api_client().get_project(project_key).list_notebooks()\n    # Loop through each notebook\n    for notebook in notebooks:\n        # Get the notebook name and type\n        notebook_name \u003d notebook[\"name\"]\n        notebook_type \u003d notebook[\"type\"]\n        # Check if the notebook type is pyspark\n        if notebook_type \u003d\u003d \"pyspark\":\n            # Add the notebook name and project key to the results dictionary\n            results[notebook_name] \u003d project_key\n\n# Print the results\nprint(results)\n"
      ],
      "outputs": []
    },
    {
      "execution_count": 0,
      "cell_type": "code",
      "metadata": {},
      "source": [
        "# Import the dataiku API module\nimport dataiku\n\n# Get the list of all projects on the instance\nprojects \u003d dataiku.api_client().list_projects()\n\n# Initialize an empty dictionary to store the results\nresults \u003d {}\n\n# Loop through each project\nfor project in projects:\n    # Get the project key\n    project_key \u003d project[\"projectKey\"]\n    # Get the list of all jupyter notebooks in the project\n    notebooks \u003d dataiku.api_client().get_project(project_key).list_jupyter_notebooks()\n    # Loop through each notebook\n    for notebook in notebooks:\n        # Get the notebook name and type\n        notebook_name \u003d notebook[\"name\"]\n        notebook_type \u003d notebook[\"type\"]\n        # Check if the notebook type is pyspark\n        if notebook_type \u003d\u003d \"pyspark\":\n            # Add the notebook name and project key to the results dictionary\n            results[notebook_name] \u003d project_key\n\n# Print the results\nprint(results)\n"
      ],
      "outputs": []
    },
    {
      "execution_count": 0,
      "cell_type": "code",
      "metadata": {},
      "source": [
        "\n# Import the dataiku API module\nimport dataiku\n\n# Get the list of all projects on the instance\nprojects \u003d dataiku.api_client().list_projects()\n\n# Initialize an empty dictionary to store the results\nresults \u003d {}\n\n# Loop through each project\nfor project in projects:\n    # Get the project key\n    project_key \u003d project[\"projectKey\"]\n    # Get the list of all jupyter notebooks in the project\n    notebooks \u003d dataiku.api_client().get_project(project_key).list_jupyter_notebooks()\n    # Loop through each notebook\n    for notebook in notebooks:\n        # Get the notebook name and type\n        notebook_name \u003d notebook.get_name()\n        notebook_type \u003d notebook.get_type()\n        # Check if the notebook type is pyspark\n        if notebook_type \u003d\u003d \"pyspark\":\n            # Add the notebook name and project key to the results dictionary\n            results[notebook_name] \u003d project_key\n\n# Print the results\nprint(results)\n"
      ],
      "outputs": []
    },
    {
      "execution_count": 0,
      "cell_type": "code",
      "metadata": {},
      "source": [
        "\n# Import the dataiku API module\nimport dataiku\n\n# Get the list of all projects on the instance\nprojects \u003d dataiku.api_client().list_projects()\n\n# Initialize an empty dictionary to store the results\nresults \u003d {}\n\n# Loop through each project\nfor project in projects:\n    # Get the project key\n    project_key \u003d project[\"projectKey\"]\n    # Get the list of all jupyter notebooks in the project\n    notebooks \u003d dataiku.api_client().get_project(project_key).list_jupyter_notebooks()\n    # Loop through each notebook\n    for notebook in notebooks:\n        # Get the notebook name and type\n        notebook_name \u003d notebook.name\n        notebook_type \u003d notebook.type\n        # Check if the notebook type is pyspark\n        if notebook_type \u003d\u003d \"pyspark\":\n            # Add the notebook name and project key to the results dictionary\n            results[notebook_name] \u003d project_key\n\n# Print the results\nprint(results)"
      ],
      "outputs": []
    },
    {
      "execution_count": 0,
      "cell_type": "code",
      "metadata": {},
      "source": [
        "import dataiku\n\n# Get a sample notebook object\nnotebook \u003d dataiku.api_client().get_project(\"ADMINMAINTENANCE\").list_jupyter_notebooks()[0]\n\n# Print the notebook object\nprint(notebook)\n\n# Print the available attributes and methods of the notebook object\nprint(dir(notebook))"
      ],
      "outputs": []
    },
    {
      "execution_count": 0,
      "cell_type": "code",
      "metadata": {},
      "source": [
        "import dataiku\n\n# Get the list of all projects on the instance\nprojects \u003d dataiku.api_client().list_projects()\n\n# Initialize an empty dictionary to store the results\nresults \u003d {}\n\n# Loop through each project\nfor project in projects:\n    # Get the project key\n    project_key \u003d project[\"projectKey\"]\n    # Get the list of all jupyter notebooks in the project\n    notebooks \u003d dataiku.api_client().get_project(project_key).list_jupyter_notebooks()\n    # Loop through each notebook\n    for notebook in notebooks:\n        # Get the notebook name and project key\n        notebook_name \u003d notebook.notebook_name\n        notebook_project_key \u003d notebook.project_key\n        # Check if the notebook type is pyspark\n        if notebook.type \u003d\u003d \"pyspark\":\n            # Add the notebook name and project key to the results dictionary\n            results[notebook_name] \u003d notebook_project_key\n\n# Print the results\nprint(results)"
      ],
      "outputs": []
    },
    {
      "execution_count": 0,
      "cell_type": "code",
      "metadata": {},
      "source": [
        "# Import the dataiku API module\nimport dataiku\n\n# Get the list of all projects on the instance\nprojects \u003d dataiku.api_client().list_projects()\n\n# Initialize an empty dictionary to store the results\nresults \u003d {}\n\n# Loop through each project\nfor project in projects:\n    # Get the project key\n    project_key \u003d project[\"projectKey\"]\n    # Get the list of all jupyter notebooks in the project\n    notebooks \u003d dataiku.api_client().get_project(project_key).list_jupyter_notebooks()\n    # Loop through each notebook\n    for notebook in notebooks:\n        # Get the notebook name and project key\n        notebook_name \u003d notebook.notebook_name\n        notebook_project_key \u003d notebook.project_key\n        # Check if the notebook type is pyspark\n        if notebook.get_type() \u003d\u003d \"pyspark\":\n            # Add the notebook name and project key to the results dictionary\n            results[notebook_name] \u003d notebook_project_key\n\n# Print the results\nprint(results)\n"
      ],
      "outputs": []
    },
    {
      "execution_count": 0,
      "cell_type": "code",
      "metadata": {},
      "source": [
        "import dataiku\n\n# Get the Dataiku API client\nclient \u003d dataiku.api()\n\n# Get the list of all projects\nprojects \u003d client.projects()\n\n# Iterate over the projects\nfor project in projects:\n\n    # Get the project key\n    project_key \u003d project[\"project_key\"]\n\n    # Get the list of all notebooks in the project\n    notebooks \u003d client.notebooks(project_key)\n\n    # Iterate over the notebooks\n    for notebook in notebooks:\n\n        # Check if the notebook is a PySpark notebook\n        if notebook[\"type\"] \u003d\u003d \"pyspark\":\n\n            # Print the notebook name and project key\n            print(notebook[\"name\"], project_key)\n"
      ],
      "outputs": []
    },
    {
      "execution_count": 0,
      "cell_type": "code",
      "metadata": {},
      "source": [
        "import dataiku\n\n# Get the Dataiku API client\nclient \u003d dataiku.api_client()\n\n# Get the list of all projects\nprojects \u003d client.projects()\n\n# Iterate over the projects\nfor project in projects:\n\n    # Get the project key\n    project_key \u003d project[\"project_key\"]\n\n    # Get the list of all notebooks in the project\n    notebooks \u003d client.notebooks(project_key)\n\n    # Iterate over the notebooks\n    for notebook in notebooks:\n\n        # Check if the notebook is a PySpark notebook\n        if notebook[\"type\"] \u003d\u003d \"pyspark\":\n\n            # Print the notebook name and project key\n            print(notebook[\"name\"], project_key)\n"
      ],
      "outputs": []
    },
    {
      "execution_count": 0,
      "cell_type": "code",
      "metadata": {},
      "source": [
        "import dataiku\n\n# Get the Dataiku API client\nclient \u003d dataiku.DSSClient()\n\n# Get the list of all projects\nprojects \u003d client.get_projects()\n\n# Iterate over the projects\nfor project in projects:\n\n    # Get the project key\n    project_key \u003d project[\"project_key\"]\n\n    # Get the list of all notebooks in the project\n    notebooks \u003d client.get_notebooks(project_key)\n\n    # Iterate over the notebooks\n    for notebook in notebooks:\n\n        # Check if the notebook is a PySpark notebook\n        if notebook[\"type\"] \u003d\u003d \"pyspark\":\n\n            # Print the notebook name and project key\n            print(notebook[\"name\"], project_key)\n"
      ],
      "outputs": []
    },
    {
      "execution_count": 0,
      "cell_type": "code",
      "metadata": {
        "scrolled": true
      },
      "source": [
        "import dataiku\n\n# Get the Dataiku API client\nclient \u003d dataiku.api_client()\n\n# Get the list of all projects\nprojects \u003d client.list_projects()\n\n# Iterate over the projects\nfor project in projects:\n\n    # Get the project key\n    project_key \u003d project[\"project_key\"]\n\n    # Get the list of all notebooks in the project\n    notebooks \u003d client.list_notebooks(project_key)\n\n    # Iterate over the notebooks\n    for notebook in notebooks:\n\n        # Check if the notebook is a PySpark notebook\n        if notebook[\"type\"] \u003d\u003d \"pyspark\":\n\n            # Print the notebook name and project key\n            print(notebook[\"name\"], project_key)\n"
      ],
      "outputs": []
    },
    {
      "execution_count": 0,
      "cell_type": "code",
      "metadata": {},
      "source": [
        "import dataiku\n\n# Get the Dataiku API client\nclient \u003d dataiku.api_client()\n\n# Get the list of all projects\nprojects \u003d client.list_projects()\n\n# Iterate over the projects\nfor project in projects:\n\n    # Get the project key\n    project_key \u003d project[\"id\"]\n\n    # Get the list of all notebooks in the project\n    notebooks \u003d client.list_notebooks(project_key)\n\n    # Iterate over the notebooks\n    for notebook in notebooks:\n\n        # Check if the notebook is a PySpark notebook\n        if notebook[\"type\"] \u003d\u003d \"pyspark\":\n\n            # Print the notebook name and project key\n            print(notebook[\"name\"], project_key)\n"
      ],
      "outputs": []
    },
    {
      "execution_count": 0,
      "cell_type": "code",
      "metadata": {},
      "source": [
        "import dataiku\n\n# Get the Dataiku API client\nclient \u003d dataiku.api_client()\n\n# Get the list of all projects\nprojects \u003d client.list_projects()\n\n# Iterate over the projects\nfor project in projects:\n    print(project)\n    # Get the project key\n    project_key \u003d project[\"project_key\"]\n\n    # Get the list of all notebooks in the project\n    notebooks \u003d client.list_notebooks(project_key)\n\n    # Iterate over the notebooks\n    for notebook in notebooks:\n\n        # Check if the notebook is a PySpark notebook\n        if notebook[\"type\"] \u003d\u003d \"pyspark\":\n\n            # Print the notebook name and project key\n            print(notebook[\"name\"], notebook[\"project_key\"])\n"
      ],
      "outputs": []
    },
    {
      "execution_count": 0,
      "cell_type": "code",
      "metadata": {},
      "source": [
        "import dataiku\n\n# Get the Dataiku API client\nclient \u003d dataiku.api_client()\n\n# Get the list of all notebooks in the project\nnotebooks \u003d client.list_notebooks()\n\n# Iterate over the notebooks\nfor notebook in notebooks:\n\n    # Check if the notebook\u0027s type is \"pyspark\"\n    if notebook[\"type\"] \u003d\u003d \"pyspark\":\n\n        # Print the notebook\u0027s name and project key\n        print(notebook[\"name\"], notebook[\"project_key\"])\n"
      ],
      "outputs": []
    },
    {
      "execution_count": 0,
      "cell_type": "code",
      "metadata": {},
      "source": [
        "import dataiku\nimport pandas as pd\n\nclient \u003d dataiku.api_client()\n\nprojects \u003d client.list_project_keys()\n\nfor project_key in projects:\n    project \u003d client.get_project(project_key)\n    print(project)\n    notebooks \u003d project.list_jupyter_notebooks()\n    for notebook in notebooks:\n        if notebook[\"type\"] \u003d\u003d \"PYSPARK\":\n            print(f\"Notebook name: {notebook[\u0027name\u0027]}, Project key: {project_key}\")"
      ],
      "outputs": []
    },
    {
      "execution_count": 0,
      "cell_type": "code",
      "metadata": {},
      "source": [
        "import dataiku\nimport pandas as pd\n\nclient \u003d dataiku.api_client()\n\nprojects \u003d client.list_project_keys()\n\nfor project_key in projects:\n    project \u003d client.get_project(project_key)\n    print(project)\n    notebooks \u003d project.list_jupyter_notebooks()\n    for notebook in notebooks:\n        if notebook.get_type() \u003d\u003d \"PYSPARK\":\n            print(f\"Notebook name: {notebook.get_name()}, Project key: {project_key}\")"
      ],
      "outputs": []
    },
    {
      "execution_count": 0,
      "cell_type": "code",
      "metadata": {},
      "source": [
        "\nimport dataiku\nimport pandas as pd\n\nclient \u003d dataiku.api_client()\n\nprojects \u003d client.list_project_keys()\n\nfor project_key in projects:\n    project \u003d client.get_project(project_key)\n    print(project)\n    notebooks \u003d project.list_jupyter_notebooks()\n    for notebook in notebooks:\n        if notebook.language \u003d\u003d \"PYSPARK\":\n            print(f\"Notebook name: {notebook.get_name()}, Project key: {project_key}\")"
      ],
      "outputs": []
    },
    {
      "execution_count": 0,
      "cell_type": "code",
      "metadata": {},
      "source": [
        "import dataiku\nimport pandas as pd\n\nclient \u003d dataiku.api_client()\n\nprojects \u003d client.list_project_keys()\n\nfor project_key in projects:\n    project \u003d client.get_project(project_key)\n    #print(project)\n    notebooks \u003d project.list_jupyter_notebooks()\n    for notebook in notebooks:\n        content \u003d notebook.get_content()\n        #print(content.get_metadata())\n        metadata \u003d content.get_metadata()[\"kernelspec\"][\"name\"]\n        nbname \u003d content.get_metadata()[\"kernelspec\"][\"name\"]\n        nblanguage \u003d content.get_metadata()[\"kernelspec\"][\"language\"]\n        nbcreator \u003d content.get_metadata()[\"creator\"]\n        print(\"Project: \" + project_key + \" | Notebook Name: \" + nbname + \" | Language: \" + nblanguage + \" | Creator: \" + nbcreator)\n        #print(content.get_metadata())\n        #print(f\"Notebook Name:\")\n        #print(metadata)\n        #print(content.get_metadata()[\"kernelspec\"][\"language\"])\n        #if content.get_metadata()[\"kernelspec\"][\"language\"] \u003d\u003d \"python\":\n            #print(f\"Notebook name: {notebook.get_name()}, Project key: {project_key}\")\n         #   print(metadata)\n          #  print(project_key)"
      ],
      "outputs": []
    },
    {
      "execution_count": 0,
      "cell_type": "code",
      "metadata": {},
      "source": [
        "import dataiku\nimport pandas as pd\n\nclient \u003d dataiku.api_client()\n\nprojects \u003d client.list_project_keys()\n\nfor project_key in projects:\n    project \u003d client.get_project(project_key)\n    notebooks \u003d project.list_jupyter_notebooks()\n    for notebook in notebooks:\n        content \u003d notebook.get_content()\n        metadata \u003d content.get_metadata()[\"kernelspec\"][\"name\"]\n        nbname \u003d content.get_metadata()[\"kernelspec\"][\"name\"]\n        nblanguage \u003d content.get_metadata()[\"kernelspec\"][\"language\"]\n        nbcreator \u003d content.get_metadata()[\"creator\"]\n        print(\"Project: \" + project_key + \" | Notebook Name: \" + nbname + \" | Language: \" + nblanguage + \" | Creator: \" + nbcreator)"
      ],
      "outputs": []
    },
    {
      "execution_count": 0,
      "cell_type": "code",
      "metadata": {},
      "source": [
        "import dataiku\nimport pandas as pd\n\ntry:\n    client \u003d dataiku.api_client()\n    projects \u003d client.list_project_keys()\n    for project_key in projects:\n        project \u003d client.get_project(project_key)\n        notebooks \u003d project.list_jupyter_notebooks()\n        for notebook in notebooks:\n            content \u003d notebook.get_content()\n            metadata \u003d content.get_metadata()[\"kernelspec\"][\"name\"]\n            nbname \u003d content.get_metadata()[\"kernelspec\"][\"name\"]\n            nblanguage \u003d content.get_metadata()[\"kernelspec\"][\"language\"]\n            nbcreator \u003d content.get_metadata()[\"creator\"]\n            print(\"Project: \" + project_key + \" | Notebook Name: \" + nbname + \" | Language: \" + nblanguage + \" | Creator: \" + nbcreator)\nexcept Exception as e:\n    print(\"An error occurred: \", e)\n"
      ],
      "outputs": []
    },
    {
      "execution_count": 0,
      "cell_type": "code",
      "metadata": {},
      "source": [
        "import dataiku\nimport pandas as pd\n\ntry:\n    client \u003d dataiku.api_client()\n    projects \u003d client.list_project_keys()\n    for project_key in projects:\n        project \u003d client.get_project(project_key)\n        notebooks \u003d project.list_jupyter_notebooks()\n        for notebook in notebooks:\n            content \u003d notebook.get_content()\n            metadata \u003d content.get_metadata()\n            if \"kernelspec\" in metadata:\n                nbname \u003d metadata[\"kernelspec\"][\"name\"]\n                nblanguage \u003d metadata[\"kernelspec\"][\"language\"]\n                nbcreator \u003d metadata[\"creator\"]\n                print(\"Project: \" + project_key + \" | Notebook Name: \" + nbname + \" | Language: \" + nblanguage + \" | Creator: \" + nbcreator)\n            else:\n                print(\"Notebook missing metadata\")\nexcept Exception as e:\n    print(\"An error occurred: \", e)\n"
      ],
      "outputs": []
    },
    {
      "execution_count": 0,
      "cell_type": "code",
      "metadata": {},
      "source": [
        "\nimport dataiku\nimport pandas as pd\n\ntry:\n    client \u003d dataiku.api_client()\n    projects \u003d client.list_project_keys()\n    for project_key in projects:\n        project \u003d client.get_project(project_key)\n        notebooks \u003d project.list_jupyter_notebooks()\n        for notebook in notebooks:\n            content \u003d notebook.get_content()\n            metadata \u003d content.get_metadata()\n            if \"kernelspec\" in metadata:\n                nbname \u003d metadata[\"kernelspec\"][\"name\"]\n                nblanguage \u003d metadata[\"kernelspec\"][\"language\"]\n                if \"creator\" in metadata:\n                    nbcreator \u003d metadata[\"creator\"]\n                else:\n                    nbcreator \u003d \"Unknown\"\n                print(\"Project: \" + project_key + \" | Notebook Name: \" + nbname + \" | Language: \" + nblanguage + \" | Creator: \" + nbcreator)\n            else:\n                print(\"Notebook missing metadata\")\nexcept Exception as e:\n    print(\"An error occurred: \", e)\n"
      ],
      "outputs": []
    },
    {
      "execution_count": 0,
      "cell_type": "code",
      "metadata": {},
      "source": [
        "import dataiku\nimport pandas as pd\n\ntry:\n    client \u003d dataiku.api_client()\n    projects \u003d client.list_project_keys()\n    for project_key in projects:\n        project \u003d client.get_project(project_key)\n        notebooks \u003d project.list_jupyter_notebooks()\n        for notebook in notebooks:\n            content \u003d notebook.get_content()\n            metadata \u003d content.get_metadata()\n            if \"kernelspec\" in metadata:\n                nbname \u003d metadata[\"kernelspec\"][\"name\"]\n                nblanguage \u003d metadata[\"kernelspec\"][\"language\"]\n                if \"creator\" in metadata:\n                    nbcreator \u003d metadata[\"creator\"]\n                else:\n                    nbcreator \u003d \"Unknown\"\n                print(\"Project: \" + project_key + \"\\nNotebook Name: \" + nbname + \"\\nLanguage: \" + nblanguage + \"\\nCreator: \" + nbcreator + \"\\n\")\n            else:\n                print(\"Notebook missing metadata\\n\")\nexcept Exception as e:\n    print(\"An error occurred: \", e)\n"
      ],
      "outputs": []
    },
    {
      "execution_count": 0,
      "cell_type": "code",
      "metadata": {},
      "source": [
        "\nimport dataiku\nimport pandas as pd\n\ntry:\n    client \u003d dataiku.api_client()\n    projects \u003d client.list_project_keys()\n    rows \u003d []\n    for project_key in projects:\n        project \u003d client.get_project(project_key)\n        notebooks \u003d project.list_jupyter_notebooks()\n        for notebook in notebooks:\n            content \u003d notebook.get_content()\n            metadata \u003d content.get_metadata()\n            if \"kernelspec\" in metadata:\n                nbname \u003d metadata[\"kernelspec\"][\"name\"]\n                nblanguage \u003d metadata[\"kernelspec\"][\"language\"]\n                if \"creator\" in metadata:\n                    nbcreator \u003d metadata[\"creator\"]\n                else:\n                    nbcreator \u003d \"Unknown\"\n                rows.append([project_key, nbname, nblanguage, nbcreator])\n            else:\n                rows.append([project_key, \"Notebook missing metadata\", \"\", \"\"])\n    df \u003d pd.DataFrame(rows, columns\u003d[\"Project\", \"Notebook Name\", \"Language\", \"Creator\"])\n    print(df.to_string(index\u003dFalse))\nexcept Exception as e:\n    print(\"An error occurred: \", e)\n"
      ],
      "outputs": []
    },
    {
      "execution_count": 0,
      "cell_type": "code",
      "metadata": {},
      "source": [
        "import dataiku\nimport pandas as pd\nfrom termcolor import colored\n\ntry:\n    client \u003d dataiku.api_client()\n    projects \u003d client.list_project_keys()\n    rows \u003d []\n    for project_key in projects:\n        project \u003d client.get_project(project_key)\n        notebooks \u003d project.list_jupyter_notebooks()\n        for notebook in notebooks:\n            content \u003d notebook.get_content()\n            metadata \u003d content.get_metadata()\n            if \"kernelspec\" in metadata:\n                nbname \u003d metadata[\"kernelspec\"][\"name\"]\n                nblanguage \u003d metadata[\"kernelspec\"][\"language\"]\n                if \"creator\" in metadata:\n                    nbcreator \u003d metadata[\"creator\"]\n                else:\n                    nbcreator \u003d \"Unknown\"\n                if nblanguage \u003d\u003d \"python\":\n                    nblanguage \u003d colored(nblanguage, \"green\")\n                elif nblanguage \u003d\u003d \"r\":\n                    nblanguage \u003d colored(nblanguage, \"blue\")\n                elif nblanguage \u003d\u003d \"scala\":\n                    nblanguage \u003d colored(nblanguage, \"magenta\")\n                else:\n                    nblanguage \u003d colored(nblanguage, \"yellow\")\n                if nbcreator \u003d\u003d \"Unknown\":\n                    nbcreator \u003d colored(nbcreator, \"red\")\n                rows.append([project_key, nbname, nblanguage, nbcreator])\n            else:\n                rows.append([project_key, colored(\"Notebook missing metadata\", \"red\"), \"\", \"\"])\n    df \u003d pd.DataFrame(rows, columns\u003d[\"Project\", \"Notebook Name\", \"Language\", \"Creator\"])\n    print(df.to_string(index\u003dFalse))\nexcept Exception as e:\n    print(\"An error occurred: \", e)\n"
      ],
      "outputs": []
    },
    {
      "execution_count": 0,
      "cell_type": "code",
      "metadata": {},
      "source": [
        ""
      ],
      "outputs": []
    }
  ]
}