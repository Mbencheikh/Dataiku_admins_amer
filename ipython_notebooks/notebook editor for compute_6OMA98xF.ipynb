{
  "metadata": {
    "kernelspec": {
      "name": "py-dku-venv-test_py",
      "display_name": "Python (env test_py)",
      "language": "python"
    },
    "associatedRecipe": "compute_6OMA98xF",
    "creator": "martin",
    "createdOn": 1682463948698,
    "tags": [
      "recipe-editor"
    ],
    "customFields": {},
    "hide_input": false,
    "language_info": {
      "name": "python",
      "version": "3.6.8",
      "mimetype": "text/x-python",
      "codemirror_mode": {
        "name": "ipython",
        "version": 3
      },
      "pygments_lexer": "ipython3",
      "nbconvert_exporter": "python",
      "file_extension": ".py"
    },
    "modifiedBy": "martin"
  },
  "nbformat": 4,
  "nbformat_minor": 1,
  "cells": [
    {
      "execution_count": 0,
      "cell_type": "code",
      "metadata": {},
      "source": [
        "# -*- coding: utf-8 -*-\nimport dataiku\nimport pandas as pd, numpy as np\nfrom dataiku import pandasutils as pdu\nimport os, shutil\nimport datetime, time\nimport json\n\n\ndip_home \u003d \u0027/tmp\u0027 #os.environ[\u0027DIP_HOME\u0027]\ndss_folder \u003d os.path.join(dip_home,\u0027\u0027)\nexports_folder \u003d os.path.join(dip_home, \u0027exports\u0027)\n\ntimestr \u003d time.strftime(\"%Y%m%d-%H%M%S\")\n\nmaximum_age \u003d 0 # int(self.config.get(\"age\", 15))\nmaximum_timestamp \u003d int(time.mktime((datetime.datetime.now() - datetime.timedelta(days\u003dmaximum_age)).timetuple()))\n\nto_delete \u003d []\nrt \u003d []\n\nfor dss_id in os.listdir(dss_folder):\n    if os.stat(os.path.join(dss_folder, dss_id)).st_mtime \u003c maximum_timestamp:\n        to_delete.append(dss_id)\n    \ndef folder_size(folder):\n    total_size \u003d 0\n    for dirpath, dirnames, filenames in os.walk(folder):\n        for f in filenames:\n            fp \u003d os.path.join(dirpath, f)\n            total_size +\u003d os.path.getsize(fp)\n    return total_size \n\nfor dss_id in to_delete:\n    dssdata_folder \u003d os.path.join(dss_folder, dss_id)\n    size \u003d folder_size(dssdata_folder)\n\n    mtime \u003d os.stat(dss_folder).st_mtime\n    age \u003d (time.mktime(datetime.datetime.now().timetuple()) - mtime)/86400\n\n               \n    rt.append([dss_id, int(age), size/1024])\n\nprint(rt)\n        \n        \n               # rt.add_record([dss_id, int(age), size/1024])\n\n\n# Write recipe outputs\n#AdminData \u003d dataiku.Folder(\"6OMA98xF\")\n#AdminData_info \u003d AdminData.get_info()"
      ],
      "outputs": []
    },
    {
      "execution_count": 0,
      "cell_type": "code",
      "metadata": {},
      "source": [
        "def write_data(list_jsons, output_dataset):\n    writer \u003d output_dataset.get_writer()\n    output_dataset.write_schema([{\"name\": \"object\",\"type\": \"string\"}])\n    for list_objects in list_jsons:\n        writer.write_row_array([json.dumps(list_objects)])\n    writer.close()\n# -------------------------------------------------------------------------------- NOTEBOOK-CELL: CODE\nwrite_data(rt, dataiku.Dataset(\"disk-usage\"))\n# Write recipe outputs\n#disk_usage \u003d dataiku.Dataset(\"disk-usage\")\n#disk_usage.write_with_schema(disk_usage_df)"
      ],
      "outputs": []
    },
    {
      "execution_count": 0,
      "cell_type": "code",
      "metadata": {},
      "source": [
        "def write_data(list_jsons, output_dataset):\n    writer \u003d output_dataset.get_writer()\n    output_dataset.write_schema([{\"name\": \"object\",\"type\": \"string\"}])\n    for list_objects in list_jsons:\n        writer.write_row_array([json.dumps(list_objects)])\n    writer.close()\n# -------------------------------------------------------------------------------- NOTEBOOK-CELL: CODE\nwrite_data(users, dataiku.Dataset(\"user_mapping\"))"
      ],
      "outputs": []
    }
  ]
}