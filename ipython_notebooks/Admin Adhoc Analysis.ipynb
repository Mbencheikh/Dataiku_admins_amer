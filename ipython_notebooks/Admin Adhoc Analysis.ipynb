{
  "metadata": {
    "kernelspec": {
      "name": "python3",
      "display_name": "Python 3",
      "language": "python"
    },
    "hide_input": false,
    "language_info": {
      "name": "python",
      "version": "3.6.8",
      "mimetype": "text/x-python",
      "codemirror_mode": {
        "name": "ipython",
        "version": 3
      },
      "pygments_lexer": "ipython3",
      "nbconvert_exporter": "python",
      "file_extension": ".py"
    },
    "customFields": {},
    "creator": "martin",
    "createdOn": 1680794950207,
    "tags": [],
    "modifiedBy": "E0196103"
  },
  "nbformat": 4,
  "nbformat_minor": 1,
  "cells": [
    {
      "execution_count": 0,
      "cell_type": "code",
      "metadata": {},
      "source": [
        "%pylab inline"
      ],
      "outputs": []
    },
    {
      "execution_count": 0,
      "cell_type": "code",
      "metadata": {},
      "source": [
        "import dataiku\nfrom dataiku import pandasutils as pdu\nimport pandas as pd"
      ],
      "outputs": []
    },
    {
      "execution_count": 0,
      "cell_type": "code",
      "metadata": {},
      "source": [
        "import dataiku\nimport pandas as pd, numpy as np\nfrom dataiku import pandasutils as pdu\nimport json\nclient \u003d dataiku.api_client()\n\n#project \u003d client.get_project(\"BASKETBALLv2\")\nproject \u003d client.list_projects()\n\nprint(project)"
      ],
      "outputs": []
    },
    {
      "execution_count": 0,
      "cell_type": "code",
      "metadata": {},
      "source": [
        "import dataiku\nimport pandas as pd, numpy as np\nimport pprint\nfrom dataiku import pandasutils as pdu\nclient \u003d dataiku.api_client()\n\nmyprint \u003d pprint.PrettyPrinter()\n\n#project \u003d client.get_project(\"BASKETBALLv2\")\nproject \u003d client.list_project_keys()\n\nmyprint.pprint(project)"
      ],
      "outputs": []
    },
    {
      "execution_count": 0,
      "cell_type": "code",
      "metadata": {},
      "source": [
        "# Connections Mapped to Projects\nimport dataiku\nimport pandas as pd, numpy as np\nimport pprint\nfrom dataiku import pandasutils as pdu\n\nclient \u003d dataiku.api_client()\n\nmyprint \u003d pprint.PrettyPrinter()\n\nproject \u003d client.get_project(\"AARONROSENBERG_DATAPREPTRAINING\")\n\nall_datasets \u003d project.list_datasets()\n\nfor dataset in all_datasets:\n    try:\n       # print(\u0027Dataset\u0027, dataset[\"name\"], \u0027is using\u0027, dataset[\"params\"][\"connection\"], \"connection\")\n        print( dataset[\"params\"][\"connection\"])\n    except KeyError:\n        print(\u0027Dataset\u0027, dataset[\"name\"], \u0027is using possibly upload dataset\u0027)"
      ],
      "outputs": []
    },
    {
      "execution_count": 0,
      "cell_type": "code",
      "metadata": {},
      "source": [
        ""
      ],
      "outputs": []
    }
  ]
}