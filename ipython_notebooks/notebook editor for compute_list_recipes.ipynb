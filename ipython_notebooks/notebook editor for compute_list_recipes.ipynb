{
  "metadata": {
    "kernelspec": {
      "name": "python3",
      "display_name": "Python 3",
      "language": "python"
    },
    "associatedRecipe": "compute_list_recipes",
    "creator": "martin",
    "createdOn": 1680809001873,
    "tags": [
      "recipe-editor"
    ],
    "customFields": {},
    "hide_input": false,
    "language_info": {
      "name": "python",
      "version": "3.6.8",
      "mimetype": "text/x-python",
      "codemirror_mode": {
        "name": "ipython",
        "version": 3
      },
      "pygments_lexer": "ipython3",
      "nbconvert_exporter": "python",
      "file_extension": ".py"
    },
    "modifiedBy": "martin"
  },
  "nbformat": 4,
  "nbformat_minor": 1,
  "cells": [
    {
      "execution_count": 0,
      "cell_type": "code",
      "metadata": {},
      "source": [
        "# -*- coding: utf-8 -*-\nimport dataiku\nimport pandas as pd, numpy as np\nfrom dataiku import pandasutils as pdu\n\n\n\n# Compute recipe outputs\n# TODO: Write here your actual code that computes the outputs\n# NB: DSS supports several kinds of APIs for reading and writing data. Please see doc.\n\nlist_recipes_df \u003d ... # Compute a Pandas dataframe to write into list_recipes\n\n\n# Write recipe outputs\nlist_recipes \u003d dataiku.Dataset(\"list_recipes\")\nlist_recipes.write_with_schema(list_recipes_df)"
      ],
      "outputs": []
    },
    {
      "execution_count": 0,
      "cell_type": "code",
      "metadata": {},
      "source": [
        "import dataiku\nimport pandas as pd, numpy as np\nfrom dataiku import pandasutils as pdu\n\nrecipes \u003d project.list_recipes()\n# Returns a list of DSSRecipeListItem\n\nfor recipe in recipes:\n        # Quick access to main information in the recipe list item\n        print(\"Name: %s\" % recipe.name)\n        print(\"Type: %s\" % recipe.type)\n        print(\"Tags: %s\" % recipe.tags) # Returns a list of strings\n\n        # You can also use the list item as a dict of all available recipe information\n        print(\"Raw: %s\" % recipe)"
      ],
      "outputs": []
    },
    {
      "execution_count": 0,
      "cell_type": "code",
      "metadata": {},
      "source": [
        ""
      ],
      "outputs": []
    }
  ]
}