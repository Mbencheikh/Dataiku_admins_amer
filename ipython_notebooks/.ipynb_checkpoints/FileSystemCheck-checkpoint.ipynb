{
  "metadata": {
    "kernelspec": {
      "name": "py-dku-venv-py36",
      "display_name": "Python (env py36)",
      "language": "python"
    },
    "creator": "martin",
    "createdOn": 1682005201187,
    "tags": [],
    "customFields": {},
    "hide_input": false,
    "language_info": {
      "name": "python",
      "version": "3.6.8",
      "mimetype": "text/x-python",
      "codemirror_mode": {
        "name": "ipython",
        "version": 3
      },
      "pygments_lexer": "ipython3",
      "nbconvert_exporter": "python",
      "file_extension": ".py"
    },
    "modifiedBy": "martin"
  },
  "nbformat": 4,
  "nbformat_minor": 1,
  "cells": [
    {
      "execution_count": 0,
      "cell_type": "code",
      "metadata": {},
      "source": [
        "import os\n\ndef get_size(start_path \u003d \u0027/data/dataiku/\u0027):\n    total_size \u003d 0\n    for dirpath, dirnames, filenames in os.walk(start_path):\n        for f in filenames:\n            fp \u003d os.path.join(dirpath, f)\n            # skip if it is symbolic link\n            if not os.path.islink(fp):\n                total_size +\u003d os.path.getsize(fp)\n\n    return total_size\n\nprint(get_size(), \u0027bytes\u0027)"
      ],
      "outputs": []
    },
    {
      "execution_count": 0,
      "cell_type": "code",
      "metadata": {},
      "source": [
        "from subprocess import run\nfrom pathlib import Path\n\ntest_path \u003d Path.home() / \u0027data/dataiku/\u0027\n\nprocess \u003d run([\u0027du\u0027, \u0027-sh\u0027, test_path], capture_output\u003dTrue, text\u003dTrue)\n\nsize \u003d process.stdout.split()[0]\n\nprint(size)"
      ],
      "outputs": []
    },
    {
      "execution_count": 0,
      "cell_type": "code",
      "metadata": {},
      "source": [
        "import docker\nclient \u003d docker.from_env()\nfor image in client.images.list():\n  print(image.id)"
      ],
      "outputs": []
    }
  ]
}