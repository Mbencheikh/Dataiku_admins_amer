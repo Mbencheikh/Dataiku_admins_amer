{
  "nbformat": 4,
  "nbformat_minor": 0,
  "metadata": {
    "kernelspec": {
      "display_name": "Python (env py36)",
      "language": "python",
      "name": "py-dku-venv-py36"
    },
    "associatedRecipe": "compute_list_conn_filtered_1",
    "creator": "martin",
    "createdOn": 1698880468399,
    "tags": [
      "recipe-editor"
    ],
    "customFields": {}
  },
  "cells": [
    {
      "cell_type": "code",
      "metadata": {},
      "outputs": [],
      "execution_count": 0,
      "source": [
        "# -*- coding: utf-8 -*-\n",
        "import dataiku\n",
        "import pandas as pd, numpy as np\n",
        "from dataiku import pandasutils as pdu\n",
        "from dataiku import api_client\n",
        "from pprint import pprint\n",
        "\n",
        "client\u003dapi_client()\n",
        "dss_connections \u003d client.list_connections()\n",
        "\n",
        "list_conns_filtered_df \u003d pd.DataFrame.from_dict(dss_connections, orient\u003d\u0027index\u0027, columns\u003d[\u0027name\u0027, \u0027allowedGroups\u0027, \u0027usableBy\u0027])\n",
        "\n",
        "# Write recipe outputs\n",
        "list_conns_filtered \u003d dataiku.Dataset(\"list_conn_filtered\")\n",
        "list_conns_filtered.write_with_schema(list_conns_filtered_df)"
      ]
    }
  ]
}