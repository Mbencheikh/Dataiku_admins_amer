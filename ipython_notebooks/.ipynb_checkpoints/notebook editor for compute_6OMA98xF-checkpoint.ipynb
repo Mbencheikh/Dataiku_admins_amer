{
  "nbformat": 4,
  "nbformat_minor": 0,
  "metadata": {
    "kernelspec": {
      "display_name": "Python (env py36)",
      "language": "python",
      "name": "py-dku-venv-py36"
    },
    "associatedRecipe": "compute_6OMA98xF",
    "creator": "martin",
    "createdOn": 1682463948698,
    "tags": [
      "recipe-editor"
    ],
    "customFields": {}
  },
  "cells": [
    {
      "cell_type": "code",
      "metadata": {},
      "outputs": [],
      "execution_count": 0,
      "source": [
        "# -*- coding: utf-8 -*-\n",
        "import dataiku\n",
        "import pandas as pd, numpy as np\n",
        "from dataiku import pandasutils as pdu\n",
        "import os, shutil\n",
        "import datetime, time\n",
        "\n",
        "\n",
        "dip_home \u003d os.environ[\u0027DIP_HOME\u0027]\n",
        "dss_folder \u003d os.path.join(dip_home,\u0027\u0027)\n",
        "exports_folder \u003d os.path.join(dip_home, \u0027exports\u0027)\n",
        "\n",
        "timestr \u003d time.strftime(\"%Y%m%d-%H%M%S\")\n",
        "\n",
        "maximum_age \u003d int(self.config.get(\"age\", 15))\n",
        "maximum_timestamp \u003d int(time.mktime((datetime.datetime.now() - datetime.timedelta(days\u003dmaximum_age)).timetuple()))\n",
        "\n",
        "to_delete \u003d []\n",
        "\n",
        "    if self.config[\"folder\"] \u003d\u003d \"dss_data\":\n",
        "        for dss_id in os.listdir(dss_folder):\n",
        "            if os.stat(os.path.join(dss_folder, dss_id)).st_mtime \u003c maximum_timestamp:\n",
        "                to_delete.append(dss_id)\n",
        "\n",
        "        def folder_size(folder):\n",
        "            total_size \u003d 0\n",
        "              for dirpath, dirnames, filenames in os.walk(folder):\n",
        "                for f in filenames:\n",
        "                    fp \u003d os.path.join(dirpath, f)\n",
        "                    total_size +\u003d os.path.getsize(fp)\n",
        "            return total_size\n",
        "\n",
        "\n",
        "\n",
        "            for dss_id in to_delete:\n",
        "                dssdata_folder \u003d os.path.join(dss_folder, dss_id)\n",
        "                size \u003d folder_size(dssdata_folder)\n",
        "\n",
        "                mtime \u003d os.stat(dss_folder).st_mtime\n",
        "                age \u003d (time.mktime(datetime.datetime.now().timetuple()) - mtime)/86400\n",
        "\n",
        "\n",
        "                rt.add_record([dss_id, int(age), size/1024])\n",
        "\n",
        "\n",
        "# Write recipe outputs\n",
        "AdminData \u003d dataiku.Folder(\"6OMA98xF\")\n",
        "AdminData_info \u003d AdminData.get_info()"
      ]
    }
  ]
}