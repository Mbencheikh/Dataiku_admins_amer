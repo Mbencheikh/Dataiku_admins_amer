{
  "nbformat": 4,
  "nbformat_minor": 0,
  "metadata": {
    "kernelspec": {
      "display_name": "Python in eks-default (env py36)",
      "language": "python",
      "name": "py-dku-containerized-venv-py36-eks-default"
    },
    "associatedRecipe": "compute_list_recipes",
    "creator": "martin",
    "createdOn": 1680809001873,
    "tags": [
      "recipe-editor"
    ],
    "customFields": {}
  },
  "cells": [
    {
      "cell_type": "code",
      "metadata": {},
      "outputs": [],
      "execution_count": 0,
      "source": [
        "# -*- coding: utf-8 -*-\n",
        "import dataiku\n",
        "import pandas as pd, numpy as np\n",
        "from dataiku import pandasutils as pdu\n",
        "\n",
        "\n",
        "\n",
        "# Compute recipe outputs\n",
        "# TODO: Write here your actual code that computes the outputs\n",
        "# NB: DSS supports several kinds of APIs for reading and writing data. Please see doc.\n",
        "\n",
        "list_recipes_df \u003d ... # Compute a Pandas dataframe to write into list_recipes\n",
        "\n",
        "\n",
        "# Write recipe outputs\n",
        "list_recipes \u003d dataiku.Dataset(\"list_recipes\")\n",
        "list_recipes.write_with_schema(list_recipes_df)"
      ]
    }
  ]
}