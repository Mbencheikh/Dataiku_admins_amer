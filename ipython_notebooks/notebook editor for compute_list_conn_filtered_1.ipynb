{
  "metadata": {
    "kernelspec": {
      "name": "py-dku-venv-test_py",
      "display_name": "Python (env test_py)",
      "language": "python"
    },
    "hide_input": false,
    "language_info": {
      "name": "python",
      "version": "3.6.8",
      "mimetype": "text/x-python",
      "codemirror_mode": {
        "name": "ipython",
        "version": 3
      },
      "pygments_lexer": "ipython3",
      "nbconvert_exporter": "python",
      "file_extension": ".py"
    },
    "creator": "martin",
    "modifiedBy": "martin",
    "createdOn": 1698880468399,
    "associatedRecipe": "compute_list_conn_filtered_1",
    "customFields": {},
    "tags": [
      "recipe-editor"
    ]
  },
  "nbformat": 4,
  "nbformat_minor": 1,
  "cells": [
    {
      "execution_count": 0,
      "cell_type": "code",
      "metadata": {},
      "source": [
        "# -*- coding: utf-8 -*-\nimport dataiku\nimport pandas as pd, numpy as np\nfrom dataiku import pandasutils as pdu\nfrom dataiku import api_client\nfrom pprint import pprint\nimport json\n\nclient\u003dapi_client()\ndss_connections \u003d client.list_connections()\n\nlist_conns_filtered_df \u003d pd.DataFrame.from_dict(dss_connections, orient\u003d\u0027index\u0027, columns\u003d[\u0027name\u0027, \u0027allowedGroups\u0027, \u0027usableBy\u0027,\u0027owner\u0027,\u0027creationTag\u0027])\n\n## Write recipe outputs\n#list_conns_filtered \u003d dataiku.Dataset(\"list_conn_filtered\")\n#list_conns_filtered.write_with_schema(list_conns_filtered_df)\nprint (dss_connections)\n"
      ],
      "outputs": []
    },
    {
      "execution_count": 0,
      "cell_type": "code",
      "metadata": {
        "scrolled": true
      },
      "source": [
        "print(list_conns_filtered_df )"
      ],
      "outputs": []
    },
    {
      "execution_count": 0,
      "cell_type": "code",
      "metadata": {},
      "source": [
        "json_object \u003d json.dumps(dss_connections, indent \u003d 4)\n\nprint(json_object,json)\n"
      ],
      "outputs": []
    },
    {
      "execution_count": 0,
      "cell_type": "code",
      "metadata": {},
      "source": [
        ""
      ],
      "outputs": []
    }
  ]
}